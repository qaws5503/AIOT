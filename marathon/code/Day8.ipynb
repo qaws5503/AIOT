{
 "cells": [
  {
   "cell_type": "code",
   "execution_count": 17,
   "metadata": {},
   "outputs": [],
   "source": [
    "from pymongo import MongoClient"
   ]
  },
  {
   "cell_type": "code",
   "execution_count": 18,
   "metadata": {},
   "outputs": [],
   "source": [
    "client = MongoClient(host='127.0.0.1', port=27017)"
   ]
  },
  {
   "cell_type": "code",
   "execution_count": 19,
   "metadata": {},
   "outputs": [],
   "source": [
    "db = client['test']\n",
    "collection = db['member']"
   ]
  },
  {
   "cell_type": "code",
   "execution_count": 20,
   "metadata": {},
   "outputs": [
    {
     "name": "stdout",
     "output_type": "stream",
     "text": [
      "5fdb0cc68ad9f3ac13d51b22\n"
     ]
    }
   ],
   "source": [
    "# insert one data\n",
    "\n",
    "mydata = {'name': 'Kevin'}\n",
    "result = collection.insert_one(mydata)\n",
    "print(result.inserted_id)"
   ]
  },
  {
   "cell_type": "code",
   "execution_count": 21,
   "metadata": {},
   "outputs": [
    {
     "name": "stdout",
     "output_type": "stream",
     "text": [
      "[ObjectId('5fdb0cc78ad9f3ac13d51b23'), ObjectId('5fdb0cc78ad9f3ac13d51b24'), ObjectId('5fdb0cc78ad9f3ac13d51b25'), ObjectId('5fdb0cc78ad9f3ac13d51b26')]\n"
     ]
    }
   ],
   "source": [
    "# insert many data at once\n",
    "\n",
    "data_list = [\n",
    "    {'name': 'Jimmy'},\n",
    "    {'name': 'Sammy'},\n",
    "    {'name': 'Molly'},\n",
    "    {'name': 'Benson'}\n",
    "]\n",
    "result = collection.insert_many(data_list)\n",
    "print(result.inserted_ids)"
   ]
  },
  {
   "cell_type": "code",
   "execution_count": 22,
   "metadata": {},
   "outputs": [
    {
     "name": "stdout",
     "output_type": "stream",
     "text": [
      "There were 5 datas, and after delete there still have 4 datas\n"
     ]
    }
   ],
   "source": [
    "# delete one data\n",
    "\n",
    "before = collection.count_documents({})\n",
    "collection.delete_one({'name': 'Kevin'})\n",
    "after = collection.count_documents({})\n",
    "print('There were', before, 'datas, and after delete there still have', after,'datas')\n",
    "\n",
    "# delete many data\n",
    "# result = collection.delete_many({'name': 'Kevin'})"
   ]
  },
  {
   "cell_type": "code",
   "execution_count": 23,
   "metadata": {},
   "outputs": [
    {
     "data": {
      "text/plain": [
       "<pymongo.results.UpdateResult at 0x7fc0cf668780>"
      ]
     },
     "execution_count": 23,
     "metadata": {},
     "output_type": "execute_result"
    }
   ],
   "source": [
    "# update data\n",
    "\n",
    "filter_ = {'name':'Jimmy'}\n",
    "update_ = {'$set': {'name': 'Handsome'}}\n",
    "collection.update_one(filter_, update_)"
   ]
  },
  {
   "cell_type": "code",
   "execution_count": 24,
   "metadata": {},
   "outputs": [
    {
     "name": "stdout",
     "output_type": "stream",
     "text": [
      "{'_id': ObjectId('5fdb0cc78ad9f3ac13d51b26'), 'name': 'Benson'}\n",
      "{'_id': ObjectId('5fdb0cc78ad9f3ac13d51b23'), 'name': 'Handsome'}\n",
      "{'_id': ObjectId('5fdb0cc78ad9f3ac13d51b25'), 'name': 'Molly'}\n",
      "{'_id': ObjectId('5fdb0cc78ad9f3ac13d51b24'), 'name': 'Sammy'}\n"
     ]
    }
   ],
   "source": [
    "# find data in db\n",
    "\n",
    "result = collection.find().sort('name',1)\n",
    "for i in result:\n",
    "    print(i)\n",
    "\n",
    "# limit the result number\n",
    "# result = collection.find().limit(2)\n",
    "\n",
    "# find one data\n",
    "# collection.find_one({})"
   ]
  }
 ],
 "metadata": {
  "kernelspec": {
   "display_name": "Python 3",
   "language": "python",
   "name": "python3"
  },
  "language_info": {
   "codemirror_mode": {
    "name": "ipython",
    "version": 3
   },
   "file_extension": ".py",
   "mimetype": "text/x-python",
   "name": "python",
   "nbconvert_exporter": "python",
   "pygments_lexer": "ipython3",
   "version": "3.8.5"
  }
 },
 "nbformat": 4,
 "nbformat_minor": 4
}
