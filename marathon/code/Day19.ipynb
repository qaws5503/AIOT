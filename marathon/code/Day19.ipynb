{
 "cells": [
  {
   "cell_type": "markdown",
   "metadata": {},
   "source": [
    "# Flask 操作 MongoDB\n",
    "\n",
    "練習如何透過 Flask 操作 Mongo\n",
    "\n",
    "* add_member() = 新增\n",
    "* get_member(id=None) = 查詢\n",
    "* remove_member(id) = 刪除\n",
    "* update_member(id) = 更新"
   ]
  },
  {
   "cell_type": "code",
   "execution_count": 20,
   "metadata": {},
   "outputs": [
    {
     "name": "stdout",
     "output_type": "stream",
     "text": [
      " * Serving Flask app \"__main__\" (lazy loading)\n",
      " * Environment: production\n",
      "\u001b[31m   WARNING: This is a development server. Do not use it in a production deployment.\u001b[0m\n",
      "\u001b[2m   Use a production WSGI server instead.\u001b[0m\n",
      " * Debug mode: off\n"
     ]
    },
    {
     "name": "stderr",
     "output_type": "stream",
     "text": [
      " * Running on http://127.0.0.1:5000/ (Press CTRL+C to quit)\n",
      "127.0.0.1 - - [28/Dec/2020 15:42:31] \"\u001b[37mPOST /members HTTP/1.1\u001b[0m\" 200 -\n",
      "127.0.0.1 - - [28/Dec/2020 15:42:59] \"\u001b[31m\u001b[1mGET /members/5fe98c671fde00c541b5109f HTTP/1.1\u001b[0m\" 405 -\n",
      "127.0.0.1 - - [28/Dec/2020 15:43:07] \"\u001b[37mGET /member/5fe98c671fde00c541b5109f HTTP/1.1\u001b[0m\" 200 -\n",
      "127.0.0.1 - - [28/Dec/2020 15:43:51] \"\u001b[37mGET /members HTTP/1.1\u001b[0m\" 200 -\n",
      "127.0.0.1 - - [28/Dec/2020 15:45:55] \"\u001b[37mDELETE /members/5fdb0cc78ad9f3ac13d51b23 HTTP/1.1\u001b[0m\" 200 -\n",
      "127.0.0.1 - - [28/Dec/2020 15:46:04] \"\u001b[37mGET /members HTTP/1.1\u001b[0m\" 200 -\n"
     ]
    }
   ],
   "source": [
    "from pymongo import MongoClient\n",
    "from flask import Flask, request, jsonify\n",
    "from flask_pymongo import PyMongo\n",
    "from bson.objectid import ObjectId\n",
    "\n",
    "app = Flask(__name__)\n",
    "app.config['MONGO_URI']='mongodb://localhost:27017/test' # test documents\n",
    "mongo = PyMongo(app)\n",
    "\n",
    "# 新增\n",
    "\n",
    "@app.route('/members', methods = ['POST'])\n",
    "def add_member():\n",
    "    # 把 form 裡面的資料拿出來\n",
    "    name = request.form.get('name')\n",
    "    \n",
    "    # 執行 insert_one 新增一筆資料\n",
    "    result = mongo.db.member.insert_one({'name': name})\n",
    "    \n",
    "    # 回傳新增資料的 id\n",
    "    return str(result.inserted_id)\n",
    "\n",
    "# 查詢\n",
    "\n",
    "@app.route('/members')\n",
    "@app.route('/member/<id>', methods = ['GET'])\n",
    "def get_member(id=None):\n",
    "    # 若沒有傳入 id，及取得所有會員資料\n",
    "    if id is None:\n",
    "        members = mongo.db.member.find({})\n",
    "        result = [] # 宣告一個陣列，回傳結果時需要用到\n",
    "        \n",
    "        for member in members:\n",
    "            member['_id'] = str(member['_id']) # mongo 回傳的 id 為 ObjectId 型別，把 id 轉成一般的字串\n",
    "            result.append(member)\n",
    "        return jsonify(result) # 把我們的結果轉換為 json 並回傳\n",
    "    else:\n",
    "        result = mongo.db.member.find_one({'_id': ObjectId(id)})\n",
    "        if result is not None:\n",
    "            result['_id'] = str(result['_id']) # mongo 回傳的 id 為 ObjectId 型別，把 id 轉成一般的字串\n",
    "        \n",
    "        return jsonify(result) # 把我們的結果轉換為 json 並回傳\n",
    "\n",
    "# 刪除\n",
    "    \n",
    "@app.route('/members/<id>', methods = ['DELETE'])\n",
    "def remove_member(id):\n",
    "    result = 0\n",
    "    \n",
    "    # 先確定是否有該會員\n",
    "    member = mongo.db.member.find_one({'_id': ObjectId(id)})\n",
    "    \n",
    "    # 若會員存在，執行 delete_one 刪除該會員\n",
    "    if member is not None:\n",
    "        del_result = mongo.db.member.delete_one(member)\n",
    "        result = del_result.deleted_count\n",
    "        \n",
    "    # 回傳刪除的資料筆數\n",
    "    return \"Delete %s data\" % str(result)\n",
    "\n",
    "# 更新\n",
    "\n",
    "@app.route('/members/<id>', methods = ['PUT'])\n",
    "def update_member(id):\n",
    "    result = 0\n",
    "    \n",
    "    # 把 form 裡面的資料拿出來\n",
    "    name = request.form.get('name')\n",
    "    \n",
    "    # 把新的資料用 dict 型別包裝\n",
    "    new_value = { \"$set\": { \"name\": name} }\n",
    "    # 執行 update_one 進行修改\n",
    "    upd_result = mongo.db.member.update_one({\"_id\": ObjectId(id)}, new_value)\n",
    "    \n",
    "    if upd_result is not None:\n",
    "        result = upd_result.modified_count\n",
    "    \n",
    "    # 回傳更新的資料筆數\n",
    "    return \"Update %s data\" % str(result)\n",
    "\n",
    "\n",
    "if __name__ == '__main__':\n",
    "    app.run()"
   ]
  },
  {
   "cell_type": "markdown",
   "metadata": {},
   "source": [
    "## 查詢 database list\n",
    "\n",
    "可以使用以下指令查詢目前資料庫有的 database"
   ]
  },
  {
   "cell_type": "code",
   "execution_count": 11,
   "metadata": {},
   "outputs": [
    {
     "data": {
      "text/plain": [
       "['admin', 'config', 'local', 'test']"
      ]
     },
     "execution_count": 11,
     "metadata": {},
     "output_type": "execute_result"
    }
   ],
   "source": [
    "import pymongo\n",
    "myclient = pymongo.MongoClient('mongodb://localhost:27017/')\n",
    " \n",
    "myclient.list_database_names()"
   ]
  }
 ],
 "metadata": {
  "kernelspec": {
   "display_name": "Python 3",
   "language": "python",
   "name": "python3"
  },
  "language_info": {
   "codemirror_mode": {
    "name": "ipython",
    "version": 3
   },
   "file_extension": ".py",
   "mimetype": "text/x-python",
   "name": "python",
   "nbconvert_exporter": "python",
   "pygments_lexer": "ipython3",
   "version": "3.8.5"
  }
 },
 "nbformat": 4,
 "nbformat_minor": 4
}
